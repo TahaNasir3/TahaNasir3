{
 "cells": [
  {
   "cell_type": "code",
   "execution_count": 2,
   "metadata": {},
   "outputs": [
    {
     "name": "stdout",
     "output_type": "stream",
     "text": [
      "328\n"
     ]
    }
   ],
   "source": [
    "#Q4\n",
    "marks={'Maths':85,'Eng':67,'Isl':99,'Physics':77}\n",
    "total=sum(marks.values())\n",
    "print(total)\n"
   ]
  },
  {
   "cell_type": "code",
   "execution_count": 3,
   "metadata": {},
   "outputs": [
    {
     "name": "stdout",
     "output_type": "stream",
     "text": [
      "19\n",
      "1\n",
      "63\n",
      "3.0\n"
     ]
    }
   ],
   "source": [
    "#Q1\n",
    "def sum(a,b):\n",
    "    c=a+b\n",
    "    print(c)\n",
    "sum(9,10)\n",
    "def subtract_num(a,b):\n",
    "    c=a-b\n",
    "    print(c)\n",
    "subtract_num(9,8)\n",
    "def mult(a,b):\n",
    "    c=a*b\n",
    "    print(c)\n",
    "mult(9,7)\n",
    "def div(a,b):\n",
    "    c=a/b\n",
    "    print(c)\n",
    "div(9,3)\n"
   ]
  },
  {
   "cell_type": "code",
   "execution_count": 4,
   "metadata": {},
   "outputs": [
    {
     "name": "stdout",
     "output_type": "stream",
     "text": [
      "Taha\n",
      "<class 'str'>\n",
      "8\n",
      "<class 'int'>\n",
      "Ali\n",
      "<class 'str'>\n",
      "9\n",
      "<class 'int'>\n"
     ]
    }
   ],
   "source": [
    "#Q2\n",
    "list=[\"Taha\", 8, \"Ali\", 9]\n",
    "for i in list:\n",
    "    print(i)\n",
    "    print(type(i))"
   ]
  },
  {
   "cell_type": "code",
   "execution_count": 5,
   "metadata": {},
   "outputs": [
    {
     "name": "stdout",
     "output_type": "stream",
     "text": [
      "{'USA': 'New York', 'Pakistan': 'Islamabad', 'Bangladesh': 'Dhaka', 'Turkey': 'Istambul', 'India': 'New Delhi'}\n"
     ]
    }
   ],
   "source": [
    "#Q3\n",
    "Capital_cities={\"USA\":\"New York\", \"Pakistan\":\"Islamabad\", \"Bangladesh\":\"Dhaka\", \"Turkey\":\"Istambul\"}\n",
    "Capital_cities[\"India\"]=\"New Delhi\"\n",
    "print(Capital_cities)\n"
   ]
  },
  {
   "cell_type": "code",
   "execution_count": 8,
   "metadata": {},
   "outputs": [
    {
     "name": "stdout",
     "output_type": "stream",
     "text": [
      "The duplicate values are:\n",
      "6\n",
      "9\n",
      "The non-duplicate items in the list are:\n",
      "[6, 9, 4, 5, 1, 2]\n"
     ]
    }
   ],
   "source": [
    "#Q5\n",
    "List=[6,9,4,5,1,2,6,9]\n",
    "New_List=[]\n",
    "print(\"The duplicate values are:\")\n",
    "for i in List:\n",
    "    if i not in New_List:\n",
    "        New_List.append(i)\n",
    "    else:\n",
    "        print(i)\n",
    "print(\"The non-duplicate items in the list are:\")\n",
    "print(New_List)"
   ]
  },
  {
   "cell_type": "code",
   "execution_count": null,
   "metadata": {},
   "outputs": [],
   "source": []
  }
 ],
 "metadata": {
  "kernelspec": {
   "display_name": "Python 3",
   "language": "python",
   "name": "python3"
  },
  "language_info": {
   "codemirror_mode": {
    "name": "ipython",
    "version": 3
   },
   "file_extension": ".py",
   "mimetype": "text/x-python",
   "name": "python",
   "nbconvert_exporter": "python",
   "pygments_lexer": "ipython3",
   "version": "3.8.5"
  }
 },
 "nbformat": 4,
 "nbformat_minor": 4
}
